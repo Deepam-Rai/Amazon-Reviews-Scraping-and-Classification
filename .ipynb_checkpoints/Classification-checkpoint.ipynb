{
 "cells": [
  {
   "cell_type": "markdown",
   "id": "00111c89-0400-47e0-a8b7-ce07f03c984c",
   "metadata": {
    "tags": []
   },
   "source": [
    "# Loading Libraries"
   ]
  },
  {
   "cell_type": "code",
   "execution_count": 3,
   "id": "b9d6d0e6-7d76-4fc1-9e89-bd9257fb7102",
   "metadata": {},
   "outputs": [],
   "source": [
    "import pandas as pd\n",
    "import numpy as np"
   ]
  },
  {
   "cell_type": "markdown",
   "id": "8a2a56ab-fb0c-4ffa-91b5-4731ec8c5910",
   "metadata": {},
   "source": [
    "# Loading Data"
   ]
  },
  {
   "cell_type": "markdown",
   "id": "8250f24a-e8cc-484d-9c88-ebc8c128abe3",
   "metadata": {},
   "source": [
    "**Dataset used:**  \n",
    "**Amazon Product:**  Reviews for <a href=\"https://www.amazon.in/Juarez-Acoustic-Cutaway-038C-Strings/dp/B017NPCSLI/ref=cm_cr_arp_d_product_top?ie=UTF8\">Juarez Acoustic Guitar</a> at amazon.in.  \n",
    "**Link:** https://www.amazon.in/Juarez-Acoustic-Cutaway-038C-Strings/dp/B017NPCSLI/ref=cm_cr_arp_d_product_top?ie=UTF8"
   ]
  },
  {
   "cell_type": "markdown",
   "id": "e728faf3-2e24-47dc-9d1f-110967fd97eb",
   "metadata": {},
   "source": [
    "The reviews along with corresponding stars given were scraped using Beautiful Soup, the code is in the associated next file."
   ]
  },
  {
   "cell_type": "code",
   "execution_count": 4,
   "id": "4bdc73b5-4b49-4c73-a80b-e7548d721f03",
   "metadata": {},
   "outputs": [
    {
     "data": {
      "text/html": [
       "<div>\n",
       "<style scoped>\n",
       "    .dataframe tbody tr th:only-of-type {\n",
       "        vertical-align: middle;\n",
       "    }\n",
       "\n",
       "    .dataframe tbody tr th {\n",
       "        vertical-align: top;\n",
       "    }\n",
       "\n",
       "    .dataframe thead th {\n",
       "        text-align: right;\n",
       "    }\n",
       "</style>\n",
       "<table border=\"1\" class=\"dataframe\">\n",
       "  <thead>\n",
       "    <tr style=\"text-align: right;\">\n",
       "      <th></th>\n",
       "      <th>reviews</th>\n",
       "      <th>stars</th>\n",
       "    </tr>\n",
       "  </thead>\n",
       "  <tbody>\n",
       "    <tr>\n",
       "      <th>0</th>\n",
       "      <td>Pretty decent guitar for beginners... Best for...</td>\n",
       "      <td>4</td>\n",
       "    </tr>\n",
       "    <tr>\n",
       "      <th>1</th>\n",
       "      <td>Very nice👍👍👍👍</td>\n",
       "      <td>4</td>\n",
       "    </tr>\n",
       "    <tr>\n",
       "      <th>2</th>\n",
       "      <td>Awesome</td>\n",
       "      <td>4</td>\n",
       "    </tr>\n",
       "    <tr>\n",
       "      <th>3</th>\n",
       "      <td>I haven't received strap, steings and 2 picks</td>\n",
       "      <td>4</td>\n",
       "    </tr>\n",
       "    <tr>\n",
       "      <th>4</th>\n",
       "      <td>I like the feature</td>\n",
       "      <td>4</td>\n",
       "    </tr>\n",
       "  </tbody>\n",
       "</table>\n",
       "</div>"
      ],
      "text/plain": [
       "                                             reviews  stars\n",
       "0  Pretty decent guitar for beginners... Best for...      4\n",
       "1                                      Very nice👍👍👍👍      4\n",
       "2                                            Awesome      4\n",
       "3      I haven't received strap, steings and 2 picks      4\n",
       "4                                 I like the feature      4"
      ]
     },
     "execution_count": 4,
     "metadata": {},
     "output_type": "execute_result"
    }
   ],
   "source": [
    "df = pd.read_csv('./Datasets/JUAREZ_Acoustic_Guitar_amazon_reviews_raw.csv')\n",
    "df.head()"
   ]
  },
  {
   "cell_type": "markdown",
   "id": "57e8b6a0-2938-4393-b246-f76891a8fe84",
   "metadata": {},
   "source": [
    "# Data Preprocessing"
   ]
  },
  {
   "cell_type": "code",
   "execution_count": 5,
   "id": "043e0ae8-8165-4417-921c-454863c72be6",
   "metadata": {},
   "outputs": [
    {
     "data": {
      "text/plain": [
       "(4428, 2)"
      ]
     },
     "execution_count": 5,
     "metadata": {},
     "output_type": "execute_result"
    }
   ],
   "source": [
    "df.shape"
   ]
  },
  {
   "cell_type": "code",
   "execution_count": 6,
   "id": "afdaf529-2700-4bc2-b382-30e98da06629",
   "metadata": {},
   "outputs": [
    {
     "name": "stdout",
     "output_type": "stream",
     "text": [
      "<class 'pandas.core.frame.DataFrame'>\n",
      "RangeIndex: 4428 entries, 0 to 4427\n",
      "Data columns (total 2 columns):\n",
      " #   Column   Non-Null Count  Dtype \n",
      "---  ------   --------------  ----- \n",
      " 0   reviews  4423 non-null   object\n",
      " 1   stars    4428 non-null   int64 \n",
      "dtypes: int64(1), object(1)\n",
      "memory usage: 69.3+ KB\n"
     ]
    }
   ],
   "source": [
    "df.info()"
   ]
  },
  {
   "cell_type": "markdown",
   "id": "7bf70c9c-1a35-48e5-98c4-7edb2a64ba8d",
   "metadata": {},
   "source": [
    "- So we have 4428 reviews with corresponding stars."
   ]
  },
  {
   "cell_type": "markdown",
   "id": "d6c4b354-772c-4d15-8510-4906e83a854d",
   "metadata": {},
   "source": [
    "## Dropping NULL rows"
   ]
  },
  {
   "cell_type": "code",
   "execution_count": 7,
   "id": "e0838e9c-d848-470c-bdc7-6c33ca3e2afa",
   "metadata": {},
   "outputs": [
    {
     "name": "stdout",
     "output_type": "stream",
     "text": [
      "<class 'pandas.core.frame.DataFrame'>\n",
      "Int64Index: 4423 entries, 0 to 4427\n",
      "Data columns (total 2 columns):\n",
      " #   Column   Non-Null Count  Dtype \n",
      "---  ------   --------------  ----- \n",
      " 0   reviews  4423 non-null   object\n",
      " 1   stars    4423 non-null   int64 \n",
      "dtypes: int64(1), object(1)\n",
      "memory usage: 103.7+ KB\n"
     ]
    }
   ],
   "source": [
    "df = df.dropna()\n",
    "df.info()"
   ]
  },
  {
   "cell_type": "markdown",
   "id": "f43f44b3-0753-4229-84b0-a1b412b7059a",
   "metadata": {},
   "source": [
    "## Basic statistics for Number of stars"
   ]
  },
  {
   "cell_type": "code",
   "execution_count": 8,
   "id": "37dba521-7782-4df2-8aed-284a6e149b99",
   "metadata": {},
   "outputs": [
    {
     "data": {
      "text/plain": [
       "count    4423.000000\n",
       "mean        3.649333\n",
       "std         1.485275\n",
       "min         1.000000\n",
       "25%         3.000000\n",
       "50%         4.000000\n",
       "75%         5.000000\n",
       "max         5.000000\n",
       "Name: stars, dtype: float64"
      ]
     },
     "execution_count": 8,
     "metadata": {},
     "output_type": "execute_result"
    }
   ],
   "source": [
    "df.stars.describe()"
   ]
  },
  {
   "cell_type": "markdown",
   "id": "5d25219f-5e58-4f19-b729-4d09fac38cee",
   "metadata": {},
   "source": [
    "- **Average rating is 3.64.**"
   ]
  },
  {
   "cell_type": "markdown",
   "id": "70141ae9-11e5-4ad8-b001-eb764fe55cf3",
   "metadata": {},
   "source": [
    "## Checking duplicate reviews"
   ]
  },
  {
   "cell_type": "code",
   "execution_count": 9,
   "id": "5dcca79b-da83-4055-b582-b63fe043968f",
   "metadata": {},
   "outputs": [
    {
     "data": {
      "text/html": [
       "<div>\n",
       "<style scoped>\n",
       "    .dataframe tbody tr th:only-of-type {\n",
       "        vertical-align: middle;\n",
       "    }\n",
       "\n",
       "    .dataframe tbody tr th {\n",
       "        vertical-align: top;\n",
       "    }\n",
       "\n",
       "    .dataframe thead th {\n",
       "        text-align: right;\n",
       "    }\n",
       "</style>\n",
       "<table border=\"1\" class=\"dataframe\">\n",
       "  <thead>\n",
       "    <tr style=\"text-align: right;\">\n",
       "      <th></th>\n",
       "      <th>reviews</th>\n",
       "      <th>stars</th>\n",
       "    </tr>\n",
       "  </thead>\n",
       "  <tbody>\n",
       "  </tbody>\n",
       "</table>\n",
       "</div>"
      ],
      "text/plain": [
       "Empty DataFrame\n",
       "Columns: [reviews, stars]\n",
       "Index: []"
      ]
     },
     "execution_count": 9,
     "metadata": {},
     "output_type": "execute_result"
    }
   ],
   "source": [
    "df[df.duplicated()]"
   ]
  },
  {
   "cell_type": "markdown",
   "id": "cd9deb73-8554-4e26-ad0f-90c0cb6b9952",
   "metadata": {},
   "source": [
    "- There are no duplicate rows."
   ]
  },
  {
   "cell_type": "markdown",
   "id": "bfa28069-8097-4d00-b851-35b340a2fb11",
   "metadata": {},
   "source": [
    "## Converting to Binary classification"
   ]
  },
  {
   "cell_type": "markdown",
   "id": "b1eef642-4037-48f6-afbc-e6ac385c89f5",
   "metadata": {},
   "source": [
    "Currently our dataset consists of reviews(text) and corresponding stars(float64: 1,2,3,4,5).  \n",
    "Our aim is to classify reviews as **negative(1,2,3 stars)** and **positive(4,5)** reviews.  \n",
    "So we will add a new column to indicate the reviews as positive(1) or negative(0) based upon the stars."
   ]
  },
  {
   "cell_type": "code",
   "execution_count": 10,
   "id": "30eb58bf-9a86-4195-aa49-25a9081fc224",
   "metadata": {},
   "outputs": [
    {
     "data": {
      "text/plain": [
       "5    1790\n",
       "4    1097\n",
       "1     779\n",
       "3     510\n",
       "2     247\n",
       "Name: stars, dtype: int64"
      ]
     },
     "execution_count": 10,
     "metadata": {},
     "output_type": "execute_result"
    }
   ],
   "source": [
    "df.stars.value_counts()"
   ]
  },
  {
   "cell_type": "markdown",
   "id": "164496ec-3fcd-4b89-9485-f4b20927b954",
   "metadata": {},
   "source": [
    "These are the number of reviews with corresponding number of stars.  \n",
    "  \n",
    "We take [1,2,3] star reviews as negative reviews and [4,5] star reviews as positive reviews thus creating two classes - Positive and Negative."
   ]
  },
  {
   "cell_type": "code",
   "execution_count": 11,
   "id": "698c6c48-baee-4b4c-8485-e216b9169c83",
   "metadata": {},
   "outputs": [
    {
     "data": {
      "text/html": [
       "<div>\n",
       "<style scoped>\n",
       "    .dataframe tbody tr th:only-of-type {\n",
       "        vertical-align: middle;\n",
       "    }\n",
       "\n",
       "    .dataframe tbody tr th {\n",
       "        vertical-align: top;\n",
       "    }\n",
       "\n",
       "    .dataframe thead th {\n",
       "        text-align: right;\n",
       "    }\n",
       "</style>\n",
       "<table border=\"1\" class=\"dataframe\">\n",
       "  <thead>\n",
       "    <tr style=\"text-align: right;\">\n",
       "      <th></th>\n",
       "      <th>reviews</th>\n",
       "      <th>stars</th>\n",
       "      <th>class</th>\n",
       "    </tr>\n",
       "  </thead>\n",
       "  <tbody>\n",
       "    <tr>\n",
       "      <th>0</th>\n",
       "      <td>Pretty decent guitar for beginners... Best for...</td>\n",
       "      <td>4</td>\n",
       "      <td>1</td>\n",
       "    </tr>\n",
       "    <tr>\n",
       "      <th>1</th>\n",
       "      <td>Very nice👍👍👍👍</td>\n",
       "      <td>4</td>\n",
       "      <td>1</td>\n",
       "    </tr>\n",
       "    <tr>\n",
       "      <th>2</th>\n",
       "      <td>Awesome</td>\n",
       "      <td>4</td>\n",
       "      <td>1</td>\n",
       "    </tr>\n",
       "    <tr>\n",
       "      <th>3</th>\n",
       "      <td>I haven't received strap, steings and 2 picks</td>\n",
       "      <td>4</td>\n",
       "      <td>1</td>\n",
       "    </tr>\n",
       "    <tr>\n",
       "      <th>4</th>\n",
       "      <td>I like the feature</td>\n",
       "      <td>4</td>\n",
       "      <td>1</td>\n",
       "    </tr>\n",
       "  </tbody>\n",
       "</table>\n",
       "</div>"
      ],
      "text/plain": [
       "                                             reviews  stars  class\n",
       "0  Pretty decent guitar for beginners... Best for...      4      1\n",
       "1                                      Very nice👍👍👍👍      4      1\n",
       "2                                            Awesome      4      1\n",
       "3      I haven't received strap, steings and 2 picks      4      1\n",
       "4                                 I like the feature      4      1"
      ]
     },
     "execution_count": 11,
     "metadata": {},
     "output_type": "execute_result"
    }
   ],
   "source": [
    "df['class']=df.apply(lambda row: 0 if row.stars<4 else 1, axis=1)\n",
    "df.head()"
   ]
  },
  {
   "cell_type": "markdown",
   "id": "c733d052-53a1-4f22-9506-5cee2adf50f4",
   "metadata": {},
   "source": [
    "## Checking the data balance for Positive and Negative reviews"
   ]
  },
  {
   "cell_type": "code",
   "execution_count": 12,
   "id": "acc2decc-e3d5-41d8-ad7b-56d8d1c2609c",
   "metadata": {},
   "outputs": [
    {
     "data": {
      "text/plain": [
       "1    2887\n",
       "0    1536\n",
       "Name: class, dtype: int64"
      ]
     },
     "execution_count": 12,
     "metadata": {},
     "output_type": "execute_result"
    }
   ],
   "source": [
    "df['class'].value_counts()"
   ]
  },
  {
   "cell_type": "markdown",
   "id": "271e3d54-454c-4e9a-8aa4-dc30edebd8c8",
   "metadata": {},
   "source": [
    "- The data is not balanced, positive reviews are almost twice of negative reviews.\n",
    "- We might require to use methods like upsampling, downsampling for fair classification."
   ]
  },
  {
   "cell_type": "markdown",
   "id": "b8f63024-5cb8-40f5-ba4e-ea54a928d25e",
   "metadata": {},
   "source": [
    "# Review text preprocessing"
   ]
  },
  {
   "cell_type": "markdown",
   "id": "ccbe9f1b-867a-42bb-8cc4-a53522162ab0",
   "metadata": {},
   "source": [
    "The reviewd contains of different language, emojis, accented characters etc. We need to filter them out."
   ]
  },
  {
   "cell_type": "markdown",
   "id": "14ce7e06-44c7-4b1c-9b14-ae680318e50b",
   "metadata": {},
   "source": [
    "The following preprocessing of the text can be done. To do or not is depends upon use-case.\n",
    "- Remove Accented Characters\n",
    "- Expand Contractions\n",
    "- Remove Special Characters\n",
    "- Change all to lower text\n",
    "- Remove numbers\n",
    "- Remove Stop Words\n",
    "- Stemming and Lemmatization\n",
    "- Removing extra white-spaces"
   ]
  },
  {
   "cell_type": "code",
   "execution_count": 13,
   "id": "889ccf4a-9c42-4e80-b1da-485261120e93",
   "metadata": {},
   "outputs": [],
   "source": [
    "import re\n",
    "import string\n",
    "import unicodedata\n",
    "import contractions\n",
    "from nltk.stem import WordNetLemmatizer\n",
    "from nltk.corpus import stopwords\n",
    "\n",
    "remove_digits = str.maketrans('','',string.digits)\n",
    "lemmatizer = WordNetLemmatizer()\n",
    "stop_words = set(stopwords.words('english'))\n",
    "\n",
    "def preprocessReview(review):\n",
    "  #removing accented chars\n",
    "  review = unicodedata.normalize('NFKD',review).encode('ascii','ignore').decode('utf-8','ignore')\n",
    "  #expanding contractions\n",
    "  review = contractions.fix(review)\n",
    "  #lower case\n",
    "  review = review.lower()\n",
    "  #removing punctuations\n",
    "  review = re.sub('[%s]' % re.escape(string.punctuation),'',review)\n",
    "  #removing digits\n",
    "  review = review.translate(remove_digits)\n",
    "  #lemmatization\n",
    "  review = \" \".join([lemmatizer.lemmatize(word) for word in review.split()])\n",
    "  #remove stopwords\n",
    "  review = \" \".join([word for word in str(review).split() if word not in stop_words])\n",
    "  #remove extra white spaces\n",
    "  review = re.sub(' +',' ',review)\n",
    "  return review"
   ]
  },
  {
   "cell_type": "code",
   "execution_count": 14,
   "id": "370dbd0d-f3ea-4c29-b46e-57cfd659c8b6",
   "metadata": {},
   "outputs": [
    {
     "data": {
      "text/html": [
       "<div>\n",
       "<style scoped>\n",
       "    .dataframe tbody tr th:only-of-type {\n",
       "        vertical-align: middle;\n",
       "    }\n",
       "\n",
       "    .dataframe tbody tr th {\n",
       "        vertical-align: top;\n",
       "    }\n",
       "\n",
       "    .dataframe thead th {\n",
       "        text-align: right;\n",
       "    }\n",
       "</style>\n",
       "<table border=\"1\" class=\"dataframe\">\n",
       "  <thead>\n",
       "    <tr style=\"text-align: right;\">\n",
       "      <th></th>\n",
       "      <th>reviews</th>\n",
       "      <th>stars</th>\n",
       "      <th>class</th>\n",
       "    </tr>\n",
       "  </thead>\n",
       "  <tbody>\n",
       "    <tr>\n",
       "      <th>0</th>\n",
       "      <td>Pretty decent guitar for beginners... Best for...</td>\n",
       "      <td>4</td>\n",
       "      <td>1</td>\n",
       "    </tr>\n",
       "    <tr>\n",
       "      <th>1</th>\n",
       "      <td>Very nice👍👍👍👍</td>\n",
       "      <td>4</td>\n",
       "      <td>1</td>\n",
       "    </tr>\n",
       "    <tr>\n",
       "      <th>2</th>\n",
       "      <td>Awesome</td>\n",
       "      <td>4</td>\n",
       "      <td>1</td>\n",
       "    </tr>\n",
       "    <tr>\n",
       "      <th>3</th>\n",
       "      <td>I haven't received strap, steings and 2 picks</td>\n",
       "      <td>4</td>\n",
       "      <td>1</td>\n",
       "    </tr>\n",
       "    <tr>\n",
       "      <th>4</th>\n",
       "      <td>I like the feature</td>\n",
       "      <td>4</td>\n",
       "      <td>1</td>\n",
       "    </tr>\n",
       "  </tbody>\n",
       "</table>\n",
       "</div>"
      ],
      "text/plain": [
       "                                             reviews  stars  class\n",
       "0  Pretty decent guitar for beginners... Best for...      4      1\n",
       "1                                      Very nice👍👍👍👍      4      1\n",
       "2                                            Awesome      4      1\n",
       "3      I haven't received strap, steings and 2 picks      4      1\n",
       "4                                 I like the feature      4      1"
      ]
     },
     "execution_count": 14,
     "metadata": {},
     "output_type": "execute_result"
    }
   ],
   "source": [
    "df.head()"
   ]
  },
  {
   "cell_type": "code",
   "execution_count": 15,
   "id": "262fd539-4336-4dee-9979-cdbab815ab19",
   "metadata": {},
   "outputs": [
    {
     "data": {
      "text/html": [
       "<div>\n",
       "<style scoped>\n",
       "    .dataframe tbody tr th:only-of-type {\n",
       "        vertical-align: middle;\n",
       "    }\n",
       "\n",
       "    .dataframe tbody tr th {\n",
       "        vertical-align: top;\n",
       "    }\n",
       "\n",
       "    .dataframe thead th {\n",
       "        text-align: right;\n",
       "    }\n",
       "</style>\n",
       "<table border=\"1\" class=\"dataframe\">\n",
       "  <thead>\n",
       "    <tr style=\"text-align: right;\">\n",
       "      <th></th>\n",
       "      <th>reviews</th>\n",
       "      <th>stars</th>\n",
       "      <th>class</th>\n",
       "    </tr>\n",
       "  </thead>\n",
       "  <tbody>\n",
       "    <tr>\n",
       "      <th>0</th>\n",
       "      <td>pretty decent guitar beginner best learning wo...</td>\n",
       "      <td>4</td>\n",
       "      <td>1</td>\n",
       "    </tr>\n",
       "    <tr>\n",
       "      <th>1</th>\n",
       "      <td>nice</td>\n",
       "      <td>4</td>\n",
       "      <td>1</td>\n",
       "    </tr>\n",
       "    <tr>\n",
       "      <th>2</th>\n",
       "      <td>awesome</td>\n",
       "      <td>4</td>\n",
       "      <td>1</td>\n",
       "    </tr>\n",
       "    <tr>\n",
       "      <th>3</th>\n",
       "      <td>received strap steings pick</td>\n",
       "      <td>4</td>\n",
       "      <td>1</td>\n",
       "    </tr>\n",
       "    <tr>\n",
       "      <th>4</th>\n",
       "      <td>like feature</td>\n",
       "      <td>4</td>\n",
       "      <td>1</td>\n",
       "    </tr>\n",
       "  </tbody>\n",
       "</table>\n",
       "</div>"
      ],
      "text/plain": [
       "                                             reviews  stars  class\n",
       "0  pretty decent guitar beginner best learning wo...      4      1\n",
       "1                                               nice      4      1\n",
       "2                                            awesome      4      1\n",
       "3                        received strap steings pick      4      1\n",
       "4                                       like feature      4      1"
      ]
     },
     "execution_count": 15,
     "metadata": {},
     "output_type": "execute_result"
    }
   ],
   "source": [
    "df['reviews']= [preprocessReview(str(x)) for x in df.reviews]\n",
    "df.head()"
   ]
  },
  {
   "cell_type": "code",
   "execution_count": 16,
   "id": "00865e2f-11e3-45b8-9f9f-da00c3df99bd",
   "metadata": {},
   "outputs": [
    {
     "data": {
      "text/plain": [
       "(4423, 3)"
      ]
     },
     "execution_count": 16,
     "metadata": {},
     "output_type": "execute_result"
    }
   ],
   "source": [
    "len([preprocessReview(str(x)) for x in df.reviews])\n",
    "df.shape"
   ]
  },
  {
   "cell_type": "code",
   "execution_count": 17,
   "id": "cdd6974b-b33f-4a87-b897-a5b2a5a166ed",
   "metadata": {},
   "outputs": [
    {
     "data": {
      "text/html": [
       "<div>\n",
       "<style scoped>\n",
       "    .dataframe tbody tr th:only-of-type {\n",
       "        vertical-align: middle;\n",
       "    }\n",
       "\n",
       "    .dataframe tbody tr th {\n",
       "        vertical-align: top;\n",
       "    }\n",
       "\n",
       "    .dataframe thead th {\n",
       "        text-align: right;\n",
       "    }\n",
       "</style>\n",
       "<table border=\"1\" class=\"dataframe\">\n",
       "  <thead>\n",
       "    <tr style=\"text-align: right;\">\n",
       "      <th></th>\n",
       "      <th>reviews</th>\n",
       "      <th>stars</th>\n",
       "      <th>class</th>\n",
       "    </tr>\n",
       "  </thead>\n",
       "  <tbody>\n",
       "    <tr>\n",
       "      <th>0</th>\n",
       "      <td>pretty decent guitar beginner best learning wo...</td>\n",
       "      <td>4</td>\n",
       "      <td>1</td>\n",
       "    </tr>\n",
       "    <tr>\n",
       "      <th>1</th>\n",
       "      <td>nice</td>\n",
       "      <td>4</td>\n",
       "      <td>1</td>\n",
       "    </tr>\n",
       "    <tr>\n",
       "      <th>2</th>\n",
       "      <td>awesome</td>\n",
       "      <td>4</td>\n",
       "      <td>1</td>\n",
       "    </tr>\n",
       "    <tr>\n",
       "      <th>3</th>\n",
       "      <td>received strap steings pick</td>\n",
       "      <td>4</td>\n",
       "      <td>1</td>\n",
       "    </tr>\n",
       "    <tr>\n",
       "      <th>4</th>\n",
       "      <td>like feature</td>\n",
       "      <td>4</td>\n",
       "      <td>1</td>\n",
       "    </tr>\n",
       "  </tbody>\n",
       "</table>\n",
       "</div>"
      ],
      "text/plain": [
       "                                             reviews  stars  class\n",
       "0  pretty decent guitar beginner best learning wo...      4      1\n",
       "1                                               nice      4      1\n",
       "2                                            awesome      4      1\n",
       "3                        received strap steings pick      4      1\n",
       "4                                       like feature      4      1"
      ]
     },
     "execution_count": 17,
     "metadata": {},
     "output_type": "execute_result"
    }
   ],
   "source": [
    "df.head()"
   ]
  },
  {
   "cell_type": "markdown",
   "id": "7849c635-05bd-49dd-bd59-792e29ee10c0",
   "metadata": {},
   "source": [
    "# Modelling"
   ]
  },
  {
   "cell_type": "markdown",
   "id": "dae13256-bac1-44a7-9143-aa6190e2d738",
   "metadata": {},
   "source": [
    "## Word Embedding"
   ]
  },
  {
   "cell_type": "markdown",
   "id": "494b524b-b499-46aa-8f7c-2acc9edc7668",
   "metadata": {},
   "source": [
    "Since the Machine Learning techniques works upon numberes we need to transform the string type reviews to numerical type.  \n",
    "We use CountVectorizer word embedding technique for this purpose."
   ]
  },
  {
   "cell_type": "markdown",
   "id": "ea0696e7-1ff0-42db-b2fb-c66c7f6b9a88",
   "metadata": {},
   "source": [
    "## Creating embedding vector matrix"
   ]
  },
  {
   "cell_type": "code",
   "execution_count": 18,
   "id": "a7c8f7cf-9aa8-485c-877c-81f26a317a9c",
   "metadata": {},
   "outputs": [],
   "source": [
    "from sklearn.feature_extraction.text import CountVectorizer"
   ]
  },
  {
   "cell_type": "code",
   "execution_count": 19,
   "id": "60a56dcb-2849-470b-a8be-f5c2c52689ca",
   "metadata": {},
   "outputs": [
    {
     "data": {
      "text/plain": [
       "<4423x5183 sparse matrix of type '<class 'numpy.int64'>'\n",
       "\twith 38022 stored elements in Compressed Sparse Row format>"
      ]
     },
     "execution_count": 19,
     "metadata": {},
     "output_type": "execute_result"
    }
   ],
   "source": [
    "vec = CountVectorizer()\n",
    "X = vec.fit_transform(df.reviews)\n",
    "X"
   ]
  },
  {
   "cell_type": "markdown",
   "id": "884d1e70-2c56-4b79-9b2e-7cd4411d8850",
   "metadata": {},
   "source": [
    "- CountVectorizer creates a sparse matrix."
   ]
  },
  {
   "cell_type": "code",
   "execution_count": 20,
   "id": "c2a389b8-6e48-40d9-a292-1ae771c9a40c",
   "metadata": {},
   "outputs": [
    {
     "data": {
      "text/plain": [
       "(4423, 5183)"
      ]
     },
     "execution_count": 20,
     "metadata": {},
     "output_type": "execute_result"
    }
   ],
   "source": [
    "X.shape"
   ]
  },
  {
   "cell_type": "markdown",
   "id": "2f662cb8-66cc-43ef-89f4-a16dcc1894d7",
   "metadata": {},
   "source": [
    "- It creates a row for each(4423) review.\n",
    "- And each row will have a column for each unique word(5183) from all reviews."
   ]
  },
  {
   "cell_type": "code",
   "execution_count": 21,
   "id": "e8564ed9-cbb4-4648-9634-53b941ae4edd",
   "metadata": {},
   "outputs": [
    {
     "name": "stdout",
     "output_type": "stream",
     "text": [
      "[[0 0 0 ... 0 0 0]\n",
      " [0 0 0 ... 0 0 0]\n",
      " [0 0 0 ... 0 0 0]\n",
      " ...\n",
      " [0 0 0 ... 0 0 0]\n",
      " [0 0 0 ... 0 0 0]\n",
      " [0 0 0 ... 0 0 0]]\n"
     ]
    }
   ],
   "source": [
    "print(X.toarray())"
   ]
  },
  {
   "cell_type": "markdown",
   "id": "834dab19-5858-48ea-b5cb-5ea84a14808a",
   "metadata": {},
   "source": [
    "- Being sparse matrix most elemetns are 0."
   ]
  },
  {
   "cell_type": "code",
   "execution_count": 22,
   "id": "edcb2498-67c9-46c9-93d8-fc1171fd8b78",
   "metadata": {},
   "outputs": [
    {
     "data": {
      "text/plain": [
       "array(['aaacepted', 'aacha', 'aapne', ..., 'zipper', 'zipping', 'zra'],\n",
       "      dtype=object)"
      ]
     },
     "execution_count": 22,
     "metadata": {},
     "output_type": "execute_result"
    }
   ],
   "source": [
    "vec.get_feature_names_out()"
   ]
  },
  {
   "cell_type": "markdown",
   "id": "8c7b157a-029e-4b8c-acfd-7fdb26771afa",
   "metadata": {},
   "source": [
    "- These are the unique words in the reviews.\n",
    "- It includes gramattically incorrect words also."
   ]
  },
  {
   "cell_type": "code",
   "execution_count": 23,
   "id": "c70fd4b9-4a2a-4691-ad5b-68cae78d0b6c",
   "metadata": {},
   "outputs": [],
   "source": [
    "embed_matrix = pd.DataFrame(X.toarray(), columns = vec.get_feature_names_out())"
   ]
  },
  {
   "cell_type": "code",
   "execution_count": 24,
   "id": "6aec3159-41ae-46b4-a103-5d818f8d7fc9",
   "metadata": {},
   "outputs": [
    {
     "data": {
      "text/html": [
       "<div>\n",
       "<style scoped>\n",
       "    .dataframe tbody tr th:only-of-type {\n",
       "        vertical-align: middle;\n",
       "    }\n",
       "\n",
       "    .dataframe tbody tr th {\n",
       "        vertical-align: top;\n",
       "    }\n",
       "\n",
       "    .dataframe thead th {\n",
       "        text-align: right;\n",
       "    }\n",
       "</style>\n",
       "<table border=\"1\" class=\"dataframe\">\n",
       "  <thead>\n",
       "    <tr style=\"text-align: right;\">\n",
       "      <th></th>\n",
       "      <th>aaacepted</th>\n",
       "      <th>aacha</th>\n",
       "      <th>aapne</th>\n",
       "      <th>aaya</th>\n",
       "      <th>ab</th>\n",
       "      <th>abc</th>\n",
       "      <th>abeginner</th>\n",
       "      <th>abiut</th>\n",
       "      <th>able</th>\n",
       "      <th>absence</th>\n",
       "      <th>...</th>\n",
       "      <th>yrrhow</th>\n",
       "      <th>yrsbut</th>\n",
       "      <th>zeal</th>\n",
       "      <th>zero</th>\n",
       "      <th>ziko</th>\n",
       "      <th>zip</th>\n",
       "      <th>zipgo</th>\n",
       "      <th>zipper</th>\n",
       "      <th>zipping</th>\n",
       "      <th>zra</th>\n",
       "    </tr>\n",
       "  </thead>\n",
       "  <tbody>\n",
       "    <tr>\n",
       "      <th>0</th>\n",
       "      <td>0</td>\n",
       "      <td>0</td>\n",
       "      <td>0</td>\n",
       "      <td>0</td>\n",
       "      <td>0</td>\n",
       "      <td>0</td>\n",
       "      <td>0</td>\n",
       "      <td>0</td>\n",
       "      <td>0</td>\n",
       "      <td>0</td>\n",
       "      <td>...</td>\n",
       "      <td>0</td>\n",
       "      <td>0</td>\n",
       "      <td>0</td>\n",
       "      <td>0</td>\n",
       "      <td>0</td>\n",
       "      <td>0</td>\n",
       "      <td>0</td>\n",
       "      <td>0</td>\n",
       "      <td>0</td>\n",
       "      <td>0</td>\n",
       "    </tr>\n",
       "    <tr>\n",
       "      <th>1</th>\n",
       "      <td>0</td>\n",
       "      <td>0</td>\n",
       "      <td>0</td>\n",
       "      <td>0</td>\n",
       "      <td>0</td>\n",
       "      <td>0</td>\n",
       "      <td>0</td>\n",
       "      <td>0</td>\n",
       "      <td>0</td>\n",
       "      <td>0</td>\n",
       "      <td>...</td>\n",
       "      <td>0</td>\n",
       "      <td>0</td>\n",
       "      <td>0</td>\n",
       "      <td>0</td>\n",
       "      <td>0</td>\n",
       "      <td>0</td>\n",
       "      <td>0</td>\n",
       "      <td>0</td>\n",
       "      <td>0</td>\n",
       "      <td>0</td>\n",
       "    </tr>\n",
       "    <tr>\n",
       "      <th>2</th>\n",
       "      <td>0</td>\n",
       "      <td>0</td>\n",
       "      <td>0</td>\n",
       "      <td>0</td>\n",
       "      <td>0</td>\n",
       "      <td>0</td>\n",
       "      <td>0</td>\n",
       "      <td>0</td>\n",
       "      <td>0</td>\n",
       "      <td>0</td>\n",
       "      <td>...</td>\n",
       "      <td>0</td>\n",
       "      <td>0</td>\n",
       "      <td>0</td>\n",
       "      <td>0</td>\n",
       "      <td>0</td>\n",
       "      <td>0</td>\n",
       "      <td>0</td>\n",
       "      <td>0</td>\n",
       "      <td>0</td>\n",
       "      <td>0</td>\n",
       "    </tr>\n",
       "    <tr>\n",
       "      <th>3</th>\n",
       "      <td>0</td>\n",
       "      <td>0</td>\n",
       "      <td>0</td>\n",
       "      <td>0</td>\n",
       "      <td>0</td>\n",
       "      <td>0</td>\n",
       "      <td>0</td>\n",
       "      <td>0</td>\n",
       "      <td>0</td>\n",
       "      <td>0</td>\n",
       "      <td>...</td>\n",
       "      <td>0</td>\n",
       "      <td>0</td>\n",
       "      <td>0</td>\n",
       "      <td>0</td>\n",
       "      <td>0</td>\n",
       "      <td>0</td>\n",
       "      <td>0</td>\n",
       "      <td>0</td>\n",
       "      <td>0</td>\n",
       "      <td>0</td>\n",
       "    </tr>\n",
       "    <tr>\n",
       "      <th>4</th>\n",
       "      <td>0</td>\n",
       "      <td>0</td>\n",
       "      <td>0</td>\n",
       "      <td>0</td>\n",
       "      <td>0</td>\n",
       "      <td>0</td>\n",
       "      <td>0</td>\n",
       "      <td>0</td>\n",
       "      <td>0</td>\n",
       "      <td>0</td>\n",
       "      <td>...</td>\n",
       "      <td>0</td>\n",
       "      <td>0</td>\n",
       "      <td>0</td>\n",
       "      <td>0</td>\n",
       "      <td>0</td>\n",
       "      <td>0</td>\n",
       "      <td>0</td>\n",
       "      <td>0</td>\n",
       "      <td>0</td>\n",
       "      <td>0</td>\n",
       "    </tr>\n",
       "    <tr>\n",
       "      <th>...</th>\n",
       "      <td>...</td>\n",
       "      <td>...</td>\n",
       "      <td>...</td>\n",
       "      <td>...</td>\n",
       "      <td>...</td>\n",
       "      <td>...</td>\n",
       "      <td>...</td>\n",
       "      <td>...</td>\n",
       "      <td>...</td>\n",
       "      <td>...</td>\n",
       "      <td>...</td>\n",
       "      <td>...</td>\n",
       "      <td>...</td>\n",
       "      <td>...</td>\n",
       "      <td>...</td>\n",
       "      <td>...</td>\n",
       "      <td>...</td>\n",
       "      <td>...</td>\n",
       "      <td>...</td>\n",
       "      <td>...</td>\n",
       "      <td>...</td>\n",
       "    </tr>\n",
       "    <tr>\n",
       "      <th>4418</th>\n",
       "      <td>0</td>\n",
       "      <td>0</td>\n",
       "      <td>0</td>\n",
       "      <td>0</td>\n",
       "      <td>0</td>\n",
       "      <td>0</td>\n",
       "      <td>0</td>\n",
       "      <td>0</td>\n",
       "      <td>0</td>\n",
       "      <td>0</td>\n",
       "      <td>...</td>\n",
       "      <td>0</td>\n",
       "      <td>0</td>\n",
       "      <td>0</td>\n",
       "      <td>0</td>\n",
       "      <td>0</td>\n",
       "      <td>0</td>\n",
       "      <td>0</td>\n",
       "      <td>0</td>\n",
       "      <td>0</td>\n",
       "      <td>0</td>\n",
       "    </tr>\n",
       "    <tr>\n",
       "      <th>4419</th>\n",
       "      <td>0</td>\n",
       "      <td>0</td>\n",
       "      <td>0</td>\n",
       "      <td>0</td>\n",
       "      <td>0</td>\n",
       "      <td>0</td>\n",
       "      <td>0</td>\n",
       "      <td>0</td>\n",
       "      <td>0</td>\n",
       "      <td>0</td>\n",
       "      <td>...</td>\n",
       "      <td>0</td>\n",
       "      <td>0</td>\n",
       "      <td>0</td>\n",
       "      <td>0</td>\n",
       "      <td>0</td>\n",
       "      <td>0</td>\n",
       "      <td>0</td>\n",
       "      <td>0</td>\n",
       "      <td>0</td>\n",
       "      <td>0</td>\n",
       "    </tr>\n",
       "    <tr>\n",
       "      <th>4420</th>\n",
       "      <td>0</td>\n",
       "      <td>0</td>\n",
       "      <td>0</td>\n",
       "      <td>0</td>\n",
       "      <td>0</td>\n",
       "      <td>0</td>\n",
       "      <td>0</td>\n",
       "      <td>0</td>\n",
       "      <td>0</td>\n",
       "      <td>0</td>\n",
       "      <td>...</td>\n",
       "      <td>0</td>\n",
       "      <td>0</td>\n",
       "      <td>0</td>\n",
       "      <td>0</td>\n",
       "      <td>0</td>\n",
       "      <td>0</td>\n",
       "      <td>0</td>\n",
       "      <td>0</td>\n",
       "      <td>0</td>\n",
       "      <td>0</td>\n",
       "    </tr>\n",
       "    <tr>\n",
       "      <th>4421</th>\n",
       "      <td>0</td>\n",
       "      <td>0</td>\n",
       "      <td>0</td>\n",
       "      <td>0</td>\n",
       "      <td>0</td>\n",
       "      <td>0</td>\n",
       "      <td>0</td>\n",
       "      <td>0</td>\n",
       "      <td>0</td>\n",
       "      <td>0</td>\n",
       "      <td>...</td>\n",
       "      <td>0</td>\n",
       "      <td>0</td>\n",
       "      <td>0</td>\n",
       "      <td>0</td>\n",
       "      <td>0</td>\n",
       "      <td>0</td>\n",
       "      <td>0</td>\n",
       "      <td>0</td>\n",
       "      <td>0</td>\n",
       "      <td>0</td>\n",
       "    </tr>\n",
       "    <tr>\n",
       "      <th>4422</th>\n",
       "      <td>0</td>\n",
       "      <td>0</td>\n",
       "      <td>0</td>\n",
       "      <td>0</td>\n",
       "      <td>0</td>\n",
       "      <td>0</td>\n",
       "      <td>0</td>\n",
       "      <td>0</td>\n",
       "      <td>0</td>\n",
       "      <td>0</td>\n",
       "      <td>...</td>\n",
       "      <td>0</td>\n",
       "      <td>0</td>\n",
       "      <td>0</td>\n",
       "      <td>0</td>\n",
       "      <td>0</td>\n",
       "      <td>0</td>\n",
       "      <td>0</td>\n",
       "      <td>0</td>\n",
       "      <td>0</td>\n",
       "      <td>0</td>\n",
       "    </tr>\n",
       "  </tbody>\n",
       "</table>\n",
       "<p>4423 rows × 5183 columns</p>\n",
       "</div>"
      ],
      "text/plain": [
       "      aaacepted  aacha  aapne  aaya  ab  abc  abeginner  abiut  able  absence  \\\n",
       "0             0      0      0     0   0    0          0      0     0        0   \n",
       "1             0      0      0     0   0    0          0      0     0        0   \n",
       "2             0      0      0     0   0    0          0      0     0        0   \n",
       "3             0      0      0     0   0    0          0      0     0        0   \n",
       "4             0      0      0     0   0    0          0      0     0        0   \n",
       "...         ...    ...    ...   ...  ..  ...        ...    ...   ...      ...   \n",
       "4418          0      0      0     0   0    0          0      0     0        0   \n",
       "4419          0      0      0     0   0    0          0      0     0        0   \n",
       "4420          0      0      0     0   0    0          0      0     0        0   \n",
       "4421          0      0      0     0   0    0          0      0     0        0   \n",
       "4422          0      0      0     0   0    0          0      0     0        0   \n",
       "\n",
       "      ...  yrrhow  yrsbut  zeal  zero  ziko  zip  zipgo  zipper  zipping  zra  \n",
       "0     ...       0       0     0     0     0    0      0       0        0    0  \n",
       "1     ...       0       0     0     0     0    0      0       0        0    0  \n",
       "2     ...       0       0     0     0     0    0      0       0        0    0  \n",
       "3     ...       0       0     0     0     0    0      0       0        0    0  \n",
       "4     ...       0       0     0     0     0    0      0       0        0    0  \n",
       "...   ...     ...     ...   ...   ...   ...  ...    ...     ...      ...  ...  \n",
       "4418  ...       0       0     0     0     0    0      0       0        0    0  \n",
       "4419  ...       0       0     0     0     0    0      0       0        0    0  \n",
       "4420  ...       0       0     0     0     0    0      0       0        0    0  \n",
       "4421  ...       0       0     0     0     0    0      0       0        0    0  \n",
       "4422  ...       0       0     0     0     0    0      0       0        0    0  \n",
       "\n",
       "[4423 rows x 5183 columns]"
      ]
     },
     "execution_count": 24,
     "metadata": {},
     "output_type": "execute_result"
    }
   ],
   "source": [
    "embed_matrix"
   ]
  },
  {
   "cell_type": "markdown",
   "id": "3122125e-b90e-483c-b2b9-42bf3f0ad6a3",
   "metadata": {},
   "source": [
    "## Merging the embed matrix with other features"
   ]
  },
  {
   "cell_type": "code",
   "execution_count": 25,
   "id": "cdf7e445-2e84-4aab-b70a-5b80a8a1fdea",
   "metadata": {},
   "outputs": [
    {
     "name": "stdout",
     "output_type": "stream",
     "text": [
      "df shape:  (4423, 3)\n",
      "embed matrix shape:  (4423, 5183)\n",
      "result data shape:  (4423, 5186)\n"
     ]
    }
   ],
   "source": [
    "print(\"df shape: \",df.shape)\n",
    "print(\"embed matrix shape: \",embed_matrix.shape)\n",
    "data = pd.concat([embed_matrix.reset_index(drop=True),df.reset_index(drop=True)], axis=1)\n",
    "print(\"result data shape: \", data.shape)"
   ]
  },
  {
   "cell_type": "code",
   "execution_count": 26,
   "id": "4133aa6e-68c8-4503-af4f-9650ba746df8",
   "metadata": {},
   "outputs": [
    {
     "data": {
      "text/html": [
       "<div>\n",
       "<style scoped>\n",
       "    .dataframe tbody tr th:only-of-type {\n",
       "        vertical-align: middle;\n",
       "    }\n",
       "\n",
       "    .dataframe tbody tr th {\n",
       "        vertical-align: top;\n",
       "    }\n",
       "\n",
       "    .dataframe thead th {\n",
       "        text-align: right;\n",
       "    }\n",
       "</style>\n",
       "<table border=\"1\" class=\"dataframe\">\n",
       "  <thead>\n",
       "    <tr style=\"text-align: right;\">\n",
       "      <th></th>\n",
       "      <th>aaacepted</th>\n",
       "      <th>aacha</th>\n",
       "      <th>aapne</th>\n",
       "      <th>aaya</th>\n",
       "      <th>ab</th>\n",
       "      <th>abc</th>\n",
       "      <th>abeginner</th>\n",
       "      <th>abiut</th>\n",
       "      <th>able</th>\n",
       "      <th>absence</th>\n",
       "      <th>...</th>\n",
       "      <th>zero</th>\n",
       "      <th>ziko</th>\n",
       "      <th>zip</th>\n",
       "      <th>zipgo</th>\n",
       "      <th>zipper</th>\n",
       "      <th>zipping</th>\n",
       "      <th>zra</th>\n",
       "      <th>reviews</th>\n",
       "      <th>stars</th>\n",
       "      <th>class</th>\n",
       "    </tr>\n",
       "  </thead>\n",
       "  <tbody>\n",
       "    <tr>\n",
       "      <th>0</th>\n",
       "      <td>0</td>\n",
       "      <td>0</td>\n",
       "      <td>0</td>\n",
       "      <td>0</td>\n",
       "      <td>0</td>\n",
       "      <td>0</td>\n",
       "      <td>0</td>\n",
       "      <td>0</td>\n",
       "      <td>0</td>\n",
       "      <td>0</td>\n",
       "      <td>...</td>\n",
       "      <td>0</td>\n",
       "      <td>0</td>\n",
       "      <td>0</td>\n",
       "      <td>0</td>\n",
       "      <td>0</td>\n",
       "      <td>0</td>\n",
       "      <td>0</td>\n",
       "      <td>pretty decent guitar beginner best learning wo...</td>\n",
       "      <td>4</td>\n",
       "      <td>1</td>\n",
       "    </tr>\n",
       "    <tr>\n",
       "      <th>1</th>\n",
       "      <td>0</td>\n",
       "      <td>0</td>\n",
       "      <td>0</td>\n",
       "      <td>0</td>\n",
       "      <td>0</td>\n",
       "      <td>0</td>\n",
       "      <td>0</td>\n",
       "      <td>0</td>\n",
       "      <td>0</td>\n",
       "      <td>0</td>\n",
       "      <td>...</td>\n",
       "      <td>0</td>\n",
       "      <td>0</td>\n",
       "      <td>0</td>\n",
       "      <td>0</td>\n",
       "      <td>0</td>\n",
       "      <td>0</td>\n",
       "      <td>0</td>\n",
       "      <td>nice</td>\n",
       "      <td>4</td>\n",
       "      <td>1</td>\n",
       "    </tr>\n",
       "    <tr>\n",
       "      <th>2</th>\n",
       "      <td>0</td>\n",
       "      <td>0</td>\n",
       "      <td>0</td>\n",
       "      <td>0</td>\n",
       "      <td>0</td>\n",
       "      <td>0</td>\n",
       "      <td>0</td>\n",
       "      <td>0</td>\n",
       "      <td>0</td>\n",
       "      <td>0</td>\n",
       "      <td>...</td>\n",
       "      <td>0</td>\n",
       "      <td>0</td>\n",
       "      <td>0</td>\n",
       "      <td>0</td>\n",
       "      <td>0</td>\n",
       "      <td>0</td>\n",
       "      <td>0</td>\n",
       "      <td>awesome</td>\n",
       "      <td>4</td>\n",
       "      <td>1</td>\n",
       "    </tr>\n",
       "    <tr>\n",
       "      <th>3</th>\n",
       "      <td>0</td>\n",
       "      <td>0</td>\n",
       "      <td>0</td>\n",
       "      <td>0</td>\n",
       "      <td>0</td>\n",
       "      <td>0</td>\n",
       "      <td>0</td>\n",
       "      <td>0</td>\n",
       "      <td>0</td>\n",
       "      <td>0</td>\n",
       "      <td>...</td>\n",
       "      <td>0</td>\n",
       "      <td>0</td>\n",
       "      <td>0</td>\n",
       "      <td>0</td>\n",
       "      <td>0</td>\n",
       "      <td>0</td>\n",
       "      <td>0</td>\n",
       "      <td>received strap steings pick</td>\n",
       "      <td>4</td>\n",
       "      <td>1</td>\n",
       "    </tr>\n",
       "    <tr>\n",
       "      <th>4</th>\n",
       "      <td>0</td>\n",
       "      <td>0</td>\n",
       "      <td>0</td>\n",
       "      <td>0</td>\n",
       "      <td>0</td>\n",
       "      <td>0</td>\n",
       "      <td>0</td>\n",
       "      <td>0</td>\n",
       "      <td>0</td>\n",
       "      <td>0</td>\n",
       "      <td>...</td>\n",
       "      <td>0</td>\n",
       "      <td>0</td>\n",
       "      <td>0</td>\n",
       "      <td>0</td>\n",
       "      <td>0</td>\n",
       "      <td>0</td>\n",
       "      <td>0</td>\n",
       "      <td>like feature</td>\n",
       "      <td>4</td>\n",
       "      <td>1</td>\n",
       "    </tr>\n",
       "  </tbody>\n",
       "</table>\n",
       "<p>5 rows × 5186 columns</p>\n",
       "</div>"
      ],
      "text/plain": [
       "   aaacepted  aacha  aapne  aaya  ab  abc  abeginner  abiut  able  absence  \\\n",
       "0          0      0      0     0   0    0          0      0     0        0   \n",
       "1          0      0      0     0   0    0          0      0     0        0   \n",
       "2          0      0      0     0   0    0          0      0     0        0   \n",
       "3          0      0      0     0   0    0          0      0     0        0   \n",
       "4          0      0      0     0   0    0          0      0     0        0   \n",
       "\n",
       "   ...  zero  ziko  zip  zipgo  zipper  zipping  zra  \\\n",
       "0  ...     0     0    0      0       0        0    0   \n",
       "1  ...     0     0    0      0       0        0    0   \n",
       "2  ...     0     0    0      0       0        0    0   \n",
       "3  ...     0     0    0      0       0        0    0   \n",
       "4  ...     0     0    0      0       0        0    0   \n",
       "\n",
       "                                             reviews  stars  class  \n",
       "0  pretty decent guitar beginner best learning wo...      4      1  \n",
       "1                                               nice      4      1  \n",
       "2                                            awesome      4      1  \n",
       "3                        received strap steings pick      4      1  \n",
       "4                                       like feature      4      1  \n",
       "\n",
       "[5 rows x 5186 columns]"
      ]
     },
     "execution_count": 26,
     "metadata": {},
     "output_type": "execute_result"
    }
   ],
   "source": [
    "data.head()"
   ]
  },
  {
   "cell_type": "code",
   "execution_count": 27,
   "id": "6ad6bcab-0fbb-4a35-9dd1-ac4a3f0a16d2",
   "metadata": {},
   "outputs": [
    {
     "data": {
      "text/plain": [
       "(4423, 5186)"
      ]
     },
     "execution_count": 27,
     "metadata": {},
     "output_type": "execute_result"
    }
   ],
   "source": [
    "data.shape"
   ]
  },
  {
   "cell_type": "markdown",
   "id": "1fe8b50c-f205-4ea1-8a3d-85bba6d2e94b",
   "metadata": {},
   "source": [
    "## Data Balancing"
   ]
  },
  {
   "cell_type": "markdown",
   "id": "287f3c48-e9f0-4186-a78c-cb5650fd13ce",
   "metadata": {},
   "source": [
    "The positive reviews are almost twice more than the negative reviews.\n",
    "Here we will perform random undersampling to balance the data."
   ]
  },
  {
   "cell_type": "code",
   "execution_count": 28,
   "id": "84d3cb11-f3f8-4950-a3ba-23b592bf7f9c",
   "metadata": {},
   "outputs": [],
   "source": [
    "X = data.drop(['reviews','stars','class'],axis=1)\n",
    "y = df.iloc[:,-1]"
   ]
  },
  {
   "cell_type": "code",
   "execution_count": 29,
   "id": "0d41ae83-a446-4877-b27e-a26953547074",
   "metadata": {},
   "outputs": [
    {
     "data": {
      "text/plain": [
       "1    2887\n",
       "0    1536\n",
       "Name: class, dtype: int64"
      ]
     },
     "execution_count": 29,
     "metadata": {},
     "output_type": "execute_result"
    }
   ],
   "source": [
    "y.value_counts()"
   ]
  },
  {
   "cell_type": "code",
   "execution_count": 30,
   "id": "ca6699cb-fcb9-4803-ab67-08fb43a41d82",
   "metadata": {},
   "outputs": [],
   "source": [
    "# Random Undersampling\n",
    "\n",
    "from imblearn.under_sampling import RandomUnderSampler\n",
    "\n",
    "rsampler = RandomUnderSampler(random_state=13, replacement=True)\n",
    "X,y = rsampler.fit_resample(X,y)"
   ]
  },
  {
   "cell_type": "code",
   "execution_count": 31,
   "id": "f9912c00-b4ce-41ea-a46d-cc3dade3efcd",
   "metadata": {},
   "outputs": [
    {
     "data": {
      "text/plain": [
       "0    1536\n",
       "1    1536\n",
       "Name: class, dtype: int64"
      ]
     },
     "execution_count": 31,
     "metadata": {},
     "output_type": "execute_result"
    }
   ],
   "source": [
    "y.value_counts()"
   ]
  },
  {
   "cell_type": "markdown",
   "id": "59d8d386-ca8f-4af2-878d-8fd0ba91b209",
   "metadata": {},
   "source": [
    "- **Now data is balanced.**"
   ]
  },
  {
   "cell_type": "markdown",
   "id": "c2c4f1eb-0c6f-436c-abea-a53a524b9a27",
   "metadata": {},
   "source": [
    "## Train test split"
   ]
  },
  {
   "cell_type": "code",
   "execution_count": 32,
   "id": "be5909aa-cd35-4405-bd65-6473f5580e49",
   "metadata": {},
   "outputs": [],
   "source": [
    "from sklearn.model_selection import train_test_split\n"
   ]
  },
  {
   "cell_type": "code",
   "execution_count": 33,
   "id": "bd4fa704-9262-49b9-bb81-7c9f53db5175",
   "metadata": {},
   "outputs": [
    {
     "data": {
      "text/html": [
       "<div>\n",
       "<style scoped>\n",
       "    .dataframe tbody tr th:only-of-type {\n",
       "        vertical-align: middle;\n",
       "    }\n",
       "\n",
       "    .dataframe tbody tr th {\n",
       "        vertical-align: top;\n",
       "    }\n",
       "\n",
       "    .dataframe thead th {\n",
       "        text-align: right;\n",
       "    }\n",
       "</style>\n",
       "<table border=\"1\" class=\"dataframe\">\n",
       "  <thead>\n",
       "    <tr style=\"text-align: right;\">\n",
       "      <th></th>\n",
       "      <th>aaacepted</th>\n",
       "      <th>aacha</th>\n",
       "      <th>aapne</th>\n",
       "      <th>aaya</th>\n",
       "      <th>ab</th>\n",
       "      <th>abc</th>\n",
       "      <th>abeginner</th>\n",
       "      <th>abiut</th>\n",
       "      <th>able</th>\n",
       "      <th>absence</th>\n",
       "      <th>...</th>\n",
       "      <th>yrrhow</th>\n",
       "      <th>yrsbut</th>\n",
       "      <th>zeal</th>\n",
       "      <th>zero</th>\n",
       "      <th>ziko</th>\n",
       "      <th>zip</th>\n",
       "      <th>zipgo</th>\n",
       "      <th>zipper</th>\n",
       "      <th>zipping</th>\n",
       "      <th>zra</th>\n",
       "    </tr>\n",
       "  </thead>\n",
       "  <tbody>\n",
       "    <tr>\n",
       "      <th>0</th>\n",
       "      <td>0</td>\n",
       "      <td>0</td>\n",
       "      <td>0</td>\n",
       "      <td>0</td>\n",
       "      <td>0</td>\n",
       "      <td>0</td>\n",
       "      <td>0</td>\n",
       "      <td>0</td>\n",
       "      <td>1</td>\n",
       "      <td>0</td>\n",
       "      <td>...</td>\n",
       "      <td>0</td>\n",
       "      <td>0</td>\n",
       "      <td>0</td>\n",
       "      <td>0</td>\n",
       "      <td>0</td>\n",
       "      <td>0</td>\n",
       "      <td>0</td>\n",
       "      <td>0</td>\n",
       "      <td>0</td>\n",
       "      <td>0</td>\n",
       "    </tr>\n",
       "    <tr>\n",
       "      <th>1</th>\n",
       "      <td>0</td>\n",
       "      <td>0</td>\n",
       "      <td>0</td>\n",
       "      <td>0</td>\n",
       "      <td>0</td>\n",
       "      <td>0</td>\n",
       "      <td>0</td>\n",
       "      <td>0</td>\n",
       "      <td>0</td>\n",
       "      <td>0</td>\n",
       "      <td>...</td>\n",
       "      <td>0</td>\n",
       "      <td>0</td>\n",
       "      <td>0</td>\n",
       "      <td>0</td>\n",
       "      <td>0</td>\n",
       "      <td>0</td>\n",
       "      <td>0</td>\n",
       "      <td>0</td>\n",
       "      <td>0</td>\n",
       "      <td>0</td>\n",
       "    </tr>\n",
       "    <tr>\n",
       "      <th>2</th>\n",
       "      <td>0</td>\n",
       "      <td>0</td>\n",
       "      <td>0</td>\n",
       "      <td>0</td>\n",
       "      <td>0</td>\n",
       "      <td>0</td>\n",
       "      <td>0</td>\n",
       "      <td>0</td>\n",
       "      <td>0</td>\n",
       "      <td>0</td>\n",
       "      <td>...</td>\n",
       "      <td>0</td>\n",
       "      <td>0</td>\n",
       "      <td>0</td>\n",
       "      <td>0</td>\n",
       "      <td>0</td>\n",
       "      <td>0</td>\n",
       "      <td>0</td>\n",
       "      <td>0</td>\n",
       "      <td>0</td>\n",
       "      <td>0</td>\n",
       "    </tr>\n",
       "    <tr>\n",
       "      <th>3</th>\n",
       "      <td>0</td>\n",
       "      <td>0</td>\n",
       "      <td>0</td>\n",
       "      <td>0</td>\n",
       "      <td>0</td>\n",
       "      <td>0</td>\n",
       "      <td>0</td>\n",
       "      <td>0</td>\n",
       "      <td>0</td>\n",
       "      <td>0</td>\n",
       "      <td>...</td>\n",
       "      <td>0</td>\n",
       "      <td>0</td>\n",
       "      <td>0</td>\n",
       "      <td>0</td>\n",
       "      <td>0</td>\n",
       "      <td>0</td>\n",
       "      <td>0</td>\n",
       "      <td>0</td>\n",
       "      <td>0</td>\n",
       "      <td>0</td>\n",
       "    </tr>\n",
       "    <tr>\n",
       "      <th>4</th>\n",
       "      <td>0</td>\n",
       "      <td>0</td>\n",
       "      <td>0</td>\n",
       "      <td>0</td>\n",
       "      <td>0</td>\n",
       "      <td>0</td>\n",
       "      <td>0</td>\n",
       "      <td>0</td>\n",
       "      <td>0</td>\n",
       "      <td>0</td>\n",
       "      <td>...</td>\n",
       "      <td>0</td>\n",
       "      <td>0</td>\n",
       "      <td>0</td>\n",
       "      <td>0</td>\n",
       "      <td>0</td>\n",
       "      <td>0</td>\n",
       "      <td>0</td>\n",
       "      <td>0</td>\n",
       "      <td>0</td>\n",
       "      <td>0</td>\n",
       "    </tr>\n",
       "  </tbody>\n",
       "</table>\n",
       "<p>5 rows × 5182 columns</p>\n",
       "</div>"
      ],
      "text/plain": [
       "   aaacepted  aacha  aapne  aaya  ab  abc  abeginner  abiut  able  absence  \\\n",
       "0          0      0      0     0   0    0          0      0     1        0   \n",
       "1          0      0      0     0   0    0          0      0     0        0   \n",
       "2          0      0      0     0   0    0          0      0     0        0   \n",
       "3          0      0      0     0   0    0          0      0     0        0   \n",
       "4          0      0      0     0   0    0          0      0     0        0   \n",
       "\n",
       "   ...  yrrhow  yrsbut  zeal  zero  ziko  zip  zipgo  zipper  zipping  zra  \n",
       "0  ...       0       0     0     0     0    0      0       0        0    0  \n",
       "1  ...       0       0     0     0     0    0      0       0        0    0  \n",
       "2  ...       0       0     0     0     0    0      0       0        0    0  \n",
       "3  ...       0       0     0     0     0    0      0       0        0    0  \n",
       "4  ...       0       0     0     0     0    0      0       0        0    0  \n",
       "\n",
       "[5 rows x 5182 columns]"
      ]
     },
     "execution_count": 33,
     "metadata": {},
     "output_type": "execute_result"
    }
   ],
   "source": [
    "#predictors\n",
    "X.head()"
   ]
  },
  {
   "cell_type": "code",
   "execution_count": 34,
   "id": "916ca8b1-0543-4fa2-97e4-bedea879060f",
   "metadata": {},
   "outputs": [
    {
     "data": {
      "text/plain": [
       "0    0\n",
       "1    0\n",
       "2    0\n",
       "3    0\n",
       "4    0\n",
       "Name: class, dtype: int64"
      ]
     },
     "execution_count": 34,
     "metadata": {},
     "output_type": "execute_result"
    }
   ],
   "source": [
    "#labels\n",
    "y.head()"
   ]
  },
  {
   "cell_type": "code",
   "execution_count": 35,
   "id": "a80a13e6-0307-441b-8508-fbbb30e9d3ee",
   "metadata": {},
   "outputs": [],
   "source": [
    "# 80-20 train-test split\n",
    "Xtrain, Xtest, ytrain, ytest = train_test_split(X,y,shuffle=True,random_state=5,test_size=0.2)"
   ]
  },
  {
   "cell_type": "code",
   "execution_count": 36,
   "id": "695474df-d4b8-40df-b602-37fb2acbb950",
   "metadata": {},
   "outputs": [
    {
     "name": "stdout",
     "output_type": "stream",
     "text": [
      "Shape:\n",
      "Xtrain:  (2457, 5182) \t ytrain:  (2457,)\n",
      "Xtest:  (615, 5182) \t ytest:  (615,)\n"
     ]
    }
   ],
   "source": [
    "print(\"Shape:\")\n",
    "print(\"Xtrain: \", Xtrain.shape,\"\\t ytrain: \",ytrain.shape)\n",
    "print(\"Xtest: \", Xtest.shape,\"\\t ytest: \",ytest.shape)"
   ]
  },
  {
   "cell_type": "markdown",
   "id": "0f09ec58-b5e3-46ac-ad53-7416b4bfeb47",
   "metadata": {},
   "source": [
    "# Gaussian Naive Bayes"
   ]
  },
  {
   "cell_type": "code",
   "execution_count": 37,
   "id": "202688d8-48ea-442f-a7ff-7907dd1f1823",
   "metadata": {},
   "outputs": [],
   "source": [
    "from sklearn.naive_bayes import GaussianNB\n",
    "from sklearn.metrics import classification_report, confusion_matrix"
   ]
  },
  {
   "cell_type": "code",
   "execution_count": 38,
   "id": "7f26ff04-182c-40ae-82c2-2ce72140d9db",
   "metadata": {},
   "outputs": [
    {
     "data": {
      "text/html": [
       "<style>#sk-container-id-1 {color: black;background-color: white;}#sk-container-id-1 pre{padding: 0;}#sk-container-id-1 div.sk-toggleable {background-color: white;}#sk-container-id-1 label.sk-toggleable__label {cursor: pointer;display: block;width: 100%;margin-bottom: 0;padding: 0.3em;box-sizing: border-box;text-align: center;}#sk-container-id-1 label.sk-toggleable__label-arrow:before {content: \"▸\";float: left;margin-right: 0.25em;color: #696969;}#sk-container-id-1 label.sk-toggleable__label-arrow:hover:before {color: black;}#sk-container-id-1 div.sk-estimator:hover label.sk-toggleable__label-arrow:before {color: black;}#sk-container-id-1 div.sk-toggleable__content {max-height: 0;max-width: 0;overflow: hidden;text-align: left;background-color: #f0f8ff;}#sk-container-id-1 div.sk-toggleable__content pre {margin: 0.2em;color: black;border-radius: 0.25em;background-color: #f0f8ff;}#sk-container-id-1 input.sk-toggleable__control:checked~div.sk-toggleable__content {max-height: 200px;max-width: 100%;overflow: auto;}#sk-container-id-1 input.sk-toggleable__control:checked~label.sk-toggleable__label-arrow:before {content: \"▾\";}#sk-container-id-1 div.sk-estimator input.sk-toggleable__control:checked~label.sk-toggleable__label {background-color: #d4ebff;}#sk-container-id-1 div.sk-label input.sk-toggleable__control:checked~label.sk-toggleable__label {background-color: #d4ebff;}#sk-container-id-1 input.sk-hidden--visually {border: 0;clip: rect(1px 1px 1px 1px);clip: rect(1px, 1px, 1px, 1px);height: 1px;margin: -1px;overflow: hidden;padding: 0;position: absolute;width: 1px;}#sk-container-id-1 div.sk-estimator {font-family: monospace;background-color: #f0f8ff;border: 1px dotted black;border-radius: 0.25em;box-sizing: border-box;margin-bottom: 0.5em;}#sk-container-id-1 div.sk-estimator:hover {background-color: #d4ebff;}#sk-container-id-1 div.sk-parallel-item::after {content: \"\";width: 100%;border-bottom: 1px solid gray;flex-grow: 1;}#sk-container-id-1 div.sk-label:hover label.sk-toggleable__label {background-color: #d4ebff;}#sk-container-id-1 div.sk-serial::before {content: \"\";position: absolute;border-left: 1px solid gray;box-sizing: border-box;top: 0;bottom: 0;left: 50%;z-index: 0;}#sk-container-id-1 div.sk-serial {display: flex;flex-direction: column;align-items: center;background-color: white;padding-right: 0.2em;padding-left: 0.2em;position: relative;}#sk-container-id-1 div.sk-item {position: relative;z-index: 1;}#sk-container-id-1 div.sk-parallel {display: flex;align-items: stretch;justify-content: center;background-color: white;position: relative;}#sk-container-id-1 div.sk-item::before, #sk-container-id-1 div.sk-parallel-item::before {content: \"\";position: absolute;border-left: 1px solid gray;box-sizing: border-box;top: 0;bottom: 0;left: 50%;z-index: -1;}#sk-container-id-1 div.sk-parallel-item {display: flex;flex-direction: column;z-index: 1;position: relative;background-color: white;}#sk-container-id-1 div.sk-parallel-item:first-child::after {align-self: flex-end;width: 50%;}#sk-container-id-1 div.sk-parallel-item:last-child::after {align-self: flex-start;width: 50%;}#sk-container-id-1 div.sk-parallel-item:only-child::after {width: 0;}#sk-container-id-1 div.sk-dashed-wrapped {border: 1px dashed gray;margin: 0 0.4em 0.5em 0.4em;box-sizing: border-box;padding-bottom: 0.4em;background-color: white;}#sk-container-id-1 div.sk-label label {font-family: monospace;font-weight: bold;display: inline-block;line-height: 1.2em;}#sk-container-id-1 div.sk-label-container {text-align: center;}#sk-container-id-1 div.sk-container {/* jupyter's `normalize.less` sets `[hidden] { display: none; }` but bootstrap.min.css set `[hidden] { display: none !important; }` so we also need the `!important` here to be able to override the default hidden behavior on the sphinx rendered scikit-learn.org. See: https://github.com/scikit-learn/scikit-learn/issues/21755 */display: inline-block !important;position: relative;}#sk-container-id-1 div.sk-text-repr-fallback {display: none;}</style><div id=\"sk-container-id-1\" class=\"sk-top-container\"><div class=\"sk-text-repr-fallback\"><pre>GaussianNB()</pre><b>In a Jupyter environment, please rerun this cell to show the HTML representation or trust the notebook. <br />On GitHub, the HTML representation is unable to render, please try loading this page with nbviewer.org.</b></div><div class=\"sk-container\" hidden><div class=\"sk-item\"><div class=\"sk-estimator sk-toggleable\"><input class=\"sk-toggleable__control sk-hidden--visually\" id=\"sk-estimator-id-1\" type=\"checkbox\" checked><label for=\"sk-estimator-id-1\" class=\"sk-toggleable__label sk-toggleable__label-arrow\">GaussianNB</label><div class=\"sk-toggleable__content\"><pre>GaussianNB()</pre></div></div></div></div></div>"
      ],
      "text/plain": [
       "GaussianNB()"
      ]
     },
     "execution_count": 38,
     "metadata": {},
     "output_type": "execute_result"
    }
   ],
   "source": [
    "GNVmodel = GaussianNB()\n",
    "\n",
    "GNVmodel.fit(Xtrain,ytrain.ravel())"
   ]
  },
  {
   "cell_type": "markdown",
   "id": "99b9c82b-1cc9-44d8-8d4f-cb4cddf9a7e9",
   "metadata": {},
   "source": [
    "## Predicting using the Model"
   ]
  },
  {
   "cell_type": "code",
   "execution_count": 39,
   "id": "2ad1c7e3-71d9-4abb-874b-b07404b49e1b",
   "metadata": {},
   "outputs": [
    {
     "data": {
      "text/plain": [
       "array([1, 1, 1, 1, 1, 1, 1, 1, 1, 0, 0, 1, 1, 0, 1, 1, 1, 1, 1, 1])"
      ]
     },
     "execution_count": 39,
     "metadata": {},
     "output_type": "execute_result"
    }
   ],
   "source": [
    "y_pred = GNVmodel.predict(Xtest)\n",
    "y_pred[:20]"
   ]
  },
  {
   "cell_type": "markdown",
   "id": "151b7838-9d12-440e-ae0d-2f5b33e5659f",
   "metadata": {
    "tags": []
   },
   "source": [
    "## Performance Evaluation"
   ]
  },
  {
   "cell_type": "code",
   "execution_count": 40,
   "id": "641be015-d676-42f2-b9a4-8963e276247f",
   "metadata": {},
   "outputs": [],
   "source": [
    "import matplotlib.pyplot as plt\n",
    "import seaborn as sn"
   ]
  },
  {
   "cell_type": "code",
   "execution_count": 41,
   "id": "06ab7a80-2cde-4814-9860-0272d717f885",
   "metadata": {},
   "outputs": [
    {
     "data": {
      "image/png": "[encoded data removed]",
      "text/plain": [
       "<Figure size 432x288 with 2 Axes>"
      ]
     },
     "metadata": {
      "needs_background": "light"
     },
     "output_type": "display_data"
    }
   ],
   "source": [
    "from sklearn.metrics import confusion_matrix\n",
    "\n",
    "classes = [0,1]\n",
    "cm = confusion_matrix(ytest, y_pred, labels=classes)\n",
    "sn.heatmap(cm, annot=True)\n",
    "plt.title(\"Confusion Matrix\")\n",
    "plt.show()"
   ]
  },
  {
   "cell_type": "code",
   "execution_count": 42,
   "id": "3af022c2-0f93-4b4b-9d46-819bd53e5e0b",
   "metadata": {},
   "outputs": [
    {
     "name": "stdout",
     "output_type": "stream",
     "text": [
      "On test data:\n",
      "              precision    recall  f1-score   support\n",
      "\n",
      "           0       0.80      0.38      0.52       308\n",
      "           1       0.59      0.91      0.72       307\n",
      "\n",
      "    accuracy                           0.64       615\n",
      "   macro avg       0.70      0.64      0.62       615\n",
      "weighted avg       0.70      0.64      0.62       615\n",
      "\n"
     ]
    }
   ],
   "source": [
    "print(\"On test data:\")\n",
    "print(classification_report(ytest, y_pred))"
   ]
  },
  {
   "cell_type": "code",
   "execution_count": 43,
   "id": "ea512bd2-619c-40f2-ab72-8d1f53f59903",
   "metadata": {},
   "outputs": [
    {
     "name": "stdout",
     "output_type": "stream",
     "text": [
      "On train data:\n",
      "              precision    recall  f1-score   support\n",
      "\n",
      "           0       1.00      0.61      0.76      1228\n",
      "           1       0.72      1.00      0.84      1229\n",
      "\n",
      "    accuracy                           0.80      2457\n",
      "   macro avg       0.86      0.80      0.80      2457\n",
      "weighted avg       0.86      0.80      0.80      2457\n",
      "\n"
     ]
    }
   ],
   "source": [
    "print(\"On train data:\")\n",
    "print(classification_report(ytrain, GNVmodel.predict(Xtrain)))"
   ]
  },
  {
   "cell_type": "markdown",
   "id": "1ef3b201-04a5-4549-8102-9a46f0cab077",
   "metadata": {},
   "source": [
    "# Random Forest"
   ]
  },
  {
   "cell_type": "code",
   "execution_count": 44,
   "id": "9ef37483-dba5-46dd-a611-66b2d4b500ee",
   "metadata": {},
   "outputs": [
    {
     "data": {
      "text/html": [
       "<style>#sk-container-id-2 {color: black;background-color: white;}#sk-container-id-2 pre{padding: 0;}#sk-container-id-2 div.sk-toggleable {background-color: white;}#sk-container-id-2 label.sk-toggleable__label {cursor: pointer;display: block;width: 100%;margin-bottom: 0;padding: 0.3em;box-sizing: border-box;text-align: center;}#sk-container-id-2 label.sk-toggleable__label-arrow:before {content: \"▸\";float: left;margin-right: 0.25em;color: #696969;}#sk-container-id-2 label.sk-toggleable__label-arrow:hover:before {color: black;}#sk-container-id-2 div.sk-estimator:hover label.sk-toggleable__label-arrow:before {color: black;}#sk-container-id-2 div.sk-toggleable__content {max-height: 0;max-width: 0;overflow: hidden;text-align: left;background-color: #f0f8ff;}#sk-container-id-2 div.sk-toggleable__content pre {margin: 0.2em;color: black;border-radius: 0.25em;background-color: #f0f8ff;}#sk-container-id-2 input.sk-toggleable__control:checked~div.sk-toggleable__content {max-height: 200px;max-width: 100%;overflow: auto;}#sk-container-id-2 input.sk-toggleable__control:checked~label.sk-toggleable__label-arrow:before {content: \"▾\";}#sk-container-id-2 div.sk-estimator input.sk-toggleable__control:checked~label.sk-toggleable__label {background-color: #d4ebff;}#sk-container-id-2 div.sk-label input.sk-toggleable__control:checked~label.sk-toggleable__label {background-color: #d4ebff;}#sk-container-id-2 input.sk-hidden--visually {border: 0;clip: rect(1px 1px 1px 1px);clip: rect(1px, 1px, 1px, 1px);height: 1px;margin: -1px;overflow: hidden;padding: 0;position: absolute;width: 1px;}#sk-container-id-2 div.sk-estimator {font-family: monospace;background-color: #f0f8ff;border: 1px dotted black;border-radius: 0.25em;box-sizing: border-box;margin-bottom: 0.5em;}#sk-container-id-2 div.sk-estimator:hover {background-color: #d4ebff;}#sk-container-id-2 div.sk-parallel-item::after {content: \"\";width: 100%;border-bottom: 1px solid gray;flex-grow: 1;}#sk-container-id-2 div.sk-label:hover label.sk-toggleable__label {background-color: #d4ebff;}#sk-container-id-2 div.sk-serial::before {content: \"\";position: absolute;border-left: 1px solid gray;box-sizing: border-box;top: 0;bottom: 0;left: 50%;z-index: 0;}#sk-container-id-2 div.sk-serial {display: flex;flex-direction: column;align-items: center;background-color: white;padding-right: 0.2em;padding-left: 0.2em;position: relative;}#sk-container-id-2 div.sk-item {position: relative;z-index: 1;}#sk-container-id-2 div.sk-parallel {display: flex;align-items: stretch;justify-content: center;background-color: white;position: relative;}#sk-container-id-2 div.sk-item::before, #sk-container-id-2 div.sk-parallel-item::before {content: \"\";position: absolute;border-left: 1px solid gray;box-sizing: border-box;top: 0;bottom: 0;left: 50%;z-index: -1;}#sk-container-id-2 div.sk-parallel-item {display: flex;flex-direction: column;z-index: 1;position: relative;background-color: white;}#sk-container-id-2 div.sk-parallel-item:first-child::after {align-self: flex-end;width: 50%;}#sk-container-id-2 div.sk-parallel-item:last-child::after {align-self: flex-start;width: 50%;}#sk-container-id-2 div.sk-parallel-item:only-child::after {width: 0;}#sk-container-id-2 div.sk-dashed-wrapped {border: 1px dashed gray;margin: 0 0.4em 0.5em 0.4em;box-sizing: border-box;padding-bottom: 0.4em;background-color: white;}#sk-container-id-2 div.sk-label label {font-family: monospace;font-weight: bold;display: inline-block;line-height: 1.2em;}#sk-container-id-2 div.sk-label-container {text-align: center;}#sk-container-id-2 div.sk-container {/* jupyter's `normalize.less` sets `[hidden] { display: none; }` but bootstrap.min.css set `[hidden] { display: none !important; }` so we also need the `!important` here to be able to override the default hidden behavior on the sphinx rendered scikit-learn.org. See: https://github.com/scikit-learn/scikit-learn/issues/21755 */display: inline-block !important;position: relative;}#sk-container-id-2 div.sk-text-repr-fallback {display: none;}</style><div id=\"sk-container-id-2\" class=\"sk-top-container\"><div class=\"sk-text-repr-fallback\"><pre>RandomForestClassifier()</pre><b>In a Jupyter environment, please rerun this cell to show the HTML representation or trust the notebook. <br />On GitHub, the HTML representation is unable to render, please try loading this page with nbviewer.org.</b></div><div class=\"sk-container\" hidden><div class=\"sk-item\"><div class=\"sk-estimator sk-toggleable\"><input class=\"sk-toggleable__control sk-hidden--visually\" id=\"sk-estimator-id-2\" type=\"checkbox\" checked><label for=\"sk-estimator-id-2\" class=\"sk-toggleable__label sk-toggleable__label-arrow\">RandomForestClassifier</label><div class=\"sk-toggleable__content\"><pre>RandomForestClassifier()</pre></div></div></div></div></div>"
      ],
      "text/plain": [
       "RandomForestClassifier()"
      ]
     },
     "execution_count": 44,
     "metadata": {},
     "output_type": "execute_result"
    }
   ],
   "source": [
    "from sklearn.ensemble import RandomForestClassifier\n",
    "\n",
    "rfc = RandomForestClassifier()\n",
    "\n",
    "# fit the predictor and target\n",
    "rfc.fit(Xtrain, ytrain)"
   ]
  },
  {
   "cell_type": "markdown",
   "id": "9078f21f-bb79-4fb1-a439-772d1ea6509e",
   "metadata": {},
   "source": [
    "## Predicting"
   ]
  },
  {
   "cell_type": "code",
   "execution_count": 45,
   "id": "4c85190b-3ed3-4d5c-ade0-a8246a3cf7fd",
   "metadata": {},
   "outputs": [],
   "source": [
    "y_pred = rfc.predict(Xtest)"
   ]
  },
  {
   "cell_type": "markdown",
   "id": "632bb65f-8b16-4838-9b28-a50488fcd972",
   "metadata": {
    "tags": []
   },
   "source": [
    "## Performance Evaluation"
   ]
  },
  {
   "cell_type": "code",
   "execution_count": 46,
   "id": "4dd48624-e296-47c6-9552-c218ca3920f4",
   "metadata": {},
   "outputs": [],
   "source": [
    "import matplotlib.pyplot as plt\n",
    "import seaborn as sn"
   ]
  },
  {
   "cell_type": "code",
   "execution_count": 47,
   "id": "c1299c2b-3abd-4263-8da7-d3e95cef84e7",
   "metadata": {},
   "outputs": [
    {
     "data": {
      "image/png": "[encoded data removed]",
      "text/plain": [
       "<Figure size 432x288 with 2 Axes>"
      ]
     },
     "metadata": {
      "needs_background": "light"
     },
     "output_type": "display_data"
    }
   ],
   "source": [
    "from sklearn.metrics import confusion_matrix\n",
    "\n",
    "classes = [0,1]\n",
    "cm = confusion_matrix(ytest, y_pred, labels=classes)\n",
    "sn.heatmap(cm, annot=True)\n",
    "plt.title(\"Confusion Matrix\")\n",
    "plt.show()"
   ]
  },
  {
   "cell_type": "code",
   "execution_count": 48,
   "id": "d8c12fd2-0bfd-4c44-a1f2-7007e73eeb6c",
   "metadata": {},
   "outputs": [
    {
     "name": "stdout",
     "output_type": "stream",
     "text": [
      "              precision    recall  f1-score   support\n",
      "\n",
      "           0       0.85      0.80      0.82       308\n",
      "           1       0.81      0.86      0.83       307\n",
      "\n",
      "    accuracy                           0.83       615\n",
      "   macro avg       0.83      0.83      0.83       615\n",
      "weighted avg       0.83      0.83      0.83       615\n",
      "\n"
     ]
    }
   ],
   "source": [
    "print(classification_report(ytest, y_pred))"
   ]
  },
  {
   "cell_type": "code",
   "execution_count": 49,
   "id": "4d34d8bd-d953-4fe0-9036-702f3e1b8673",
   "metadata": {},
   "outputs": [
    {
     "name": "stdout",
     "output_type": "stream",
     "text": [
      "              precision    recall  f1-score   support\n",
      "\n",
      "           0       1.00      0.61      0.76      1228\n",
      "           1       0.72      1.00      0.84      1229\n",
      "\n",
      "    accuracy                           0.80      2457\n",
      "   macro avg       0.86      0.80      0.80      2457\n",
      "weighted avg       0.86      0.80      0.80      2457\n",
      "\n"
     ]
    }
   ],
   "source": [
    "print(classification_report(ytrain, GNVmodel.predict(Xtrain)))"
   ]
  },
  {
   "cell_type": "markdown",
   "id": "a8e3774b-f7dd-43dc-8c91-1bf32b0b4e87",
   "metadata": {},
   "source": [
    "# Penalized SVM"
   ]
  },
  {
   "cell_type": "markdown",
   "id": "30c4e9fd-5887-4d65-a1ea-c210225f1eac",
   "metadata": {},
   "source": [
    "Penalizessvc_modelisclassification of minority class. Suitable for imbalanced dataset.  \n",
    "**This is done for Imbalanced Dataset.**"
   ]
  },
  {
   "cell_type": "code",
   "execution_count": 50,
   "id": "1e9230e2-aa94-4f88-81bf-9eebe9a7d0bc",
   "metadata": {},
   "outputs": [
    {
     "data": {
      "text/html": [
       "<style>#sk-container-id-3 {color: black;background-color: white;}#sk-container-id-3 pre{padding: 0;}#sk-container-id-3 div.sk-toggleable {background-color: white;}#sk-container-id-3 label.sk-toggleable__label {cursor: pointer;display: block;width: 100%;margin-bottom: 0;padding: 0.3em;box-sizing: border-box;text-align: center;}#sk-container-id-3 label.sk-toggleable__label-arrow:before {content: \"▸\";float: left;margin-right: 0.25em;color: #696969;}#sk-container-id-3 label.sk-toggleable__label-arrow:hover:before {color: black;}#sk-container-id-3 div.sk-estimator:hover label.sk-toggleable__label-arrow:before {color: black;}#sk-container-id-3 div.sk-toggleable__content {max-height: 0;max-width: 0;overflow: hidden;text-align: left;background-color: #f0f8ff;}#sk-container-id-3 div.sk-toggleable__content pre {margin: 0.2em;color: black;border-radius: 0.25em;background-color: #f0f8ff;}#sk-container-id-3 input.sk-toggleable__control:checked~div.sk-toggleable__content {max-height: 200px;max-width: 100%;overflow: auto;}#sk-container-id-3 input.sk-toggleable__control:checked~label.sk-toggleable__label-arrow:before {content: \"▾\";}#sk-container-id-3 div.sk-estimator input.sk-toggleable__control:checked~label.sk-toggleable__label {background-color: #d4ebff;}#sk-container-id-3 div.sk-label input.sk-toggleable__control:checked~label.sk-toggleable__label {background-color: #d4ebff;}#sk-container-id-3 input.sk-hidden--visually {border: 0;clip: rect(1px 1px 1px 1px);clip: rect(1px, 1px, 1px, 1px);height: 1px;margin: -1px;overflow: hidden;padding: 0;position: absolute;width: 1px;}#sk-container-id-3 div.sk-estimator {font-family: monospace;background-color: #f0f8ff;border: 1px dotted black;border-radius: 0.25em;box-sizing: border-box;margin-bottom: 0.5em;}#sk-container-id-3 div.sk-estimator:hover {background-color: #d4ebff;}#sk-container-id-3 div.sk-parallel-item::after {content: \"\";width: 100%;border-bottom: 1px solid gray;flex-grow: 1;}#sk-container-id-3 div.sk-label:hover label.sk-toggleable__label {background-color: #d4ebff;}#sk-container-id-3 div.sk-serial::before {content: \"\";position: absolute;border-left: 1px solid gray;box-sizing: border-box;top: 0;bottom: 0;left: 50%;z-index: 0;}#sk-container-id-3 div.sk-serial {display: flex;flex-direction: column;align-items: center;background-color: white;padding-right: 0.2em;padding-left: 0.2em;position: relative;}#sk-container-id-3 div.sk-item {position: relative;z-index: 1;}#sk-container-id-3 div.sk-parallel {display: flex;align-items: stretch;justify-content: center;background-color: white;position: relative;}#sk-container-id-3 div.sk-item::before, #sk-container-id-3 div.sk-parallel-item::before {content: \"\";position: absolute;border-left: 1px solid gray;box-sizing: border-box;top: 0;bottom: 0;left: 50%;z-index: -1;}#sk-container-id-3 div.sk-parallel-item {display: flex;flex-direction: column;z-index: 1;position: relative;background-color: white;}#sk-container-id-3 div.sk-parallel-item:first-child::after {align-self: flex-end;width: 50%;}#sk-container-id-3 div.sk-parallel-item:last-child::after {align-self: flex-start;width: 50%;}#sk-container-id-3 div.sk-parallel-item:only-child::after {width: 0;}#sk-container-id-3 div.sk-dashed-wrapped {border: 1px dashed gray;margin: 0 0.4em 0.5em 0.4em;box-sizing: border-box;padding-bottom: 0.4em;background-color: white;}#sk-container-id-3 div.sk-label label {font-family: monospace;font-weight: bold;display: inline-block;line-height: 1.2em;}#sk-container-id-3 div.sk-label-container {text-align: center;}#sk-container-id-3 div.sk-container {/* jupyter's `normalize.less` sets `[hidden] { display: none; }` but bootstrap.min.css set `[hidden] { display: none !important; }` so we also need the `!important` here to be able to override the default hidden behavior on the sphinx rendered scikit-learn.org. See: https://github.com/scikit-learn/scikit-learn/issues/21755 */display: inline-block !important;position: relative;}#sk-container-id-3 div.sk-text-repr-fallback {display: none;}</style><div id=\"sk-container-id-3\" class=\"sk-top-container\"><div class=\"sk-text-repr-fallback\"><pre>SVC(class_weight=&#x27;balanced&#x27;, probability=True)</pre><b>In a Jupyter environment, please rerun this cell to show the HTML representation or trust the notebook. <br />On GitHub, the HTML representation is unable to render, please try loading this page with nbviewer.org.</b></div><div class=\"sk-container\" hidden><div class=\"sk-item\"><div class=\"sk-estimator sk-toggleable\"><input class=\"sk-toggleable__control sk-hidden--visually\" id=\"sk-estimator-id-3\" type=\"checkbox\" checked><label for=\"sk-estimator-id-3\" class=\"sk-toggleable__label sk-toggleable__label-arrow\">SVC</label><div class=\"sk-toggleable__content\"><pre>SVC(class_weight=&#x27;balanced&#x27;, probability=True)</pre></div></div></div></div></div>"
      ],
      "text/plain": [
       "SVC(class_weight='balanced', probability=True)"
      ]
     },
     "execution_count": 50,
     "metadata": {},
     "output_type": "execute_result"
    }
   ],
   "source": [
    "# load library\n",
    "from sklearn.svm import SVC\n",
    "\n",
    "# we can add class_weight='balanced' to add panalize mistake\n",
    "svc_model = SVC(class_weight='balanced', probability=True)\n",
    "\n",
    "svc_model.fit(Xtrain, ytrain)"
   ]
  },
  {
   "cell_type": "markdown",
   "id": "d09e0b5f-c3ec-4a30-abc4-febb17d3068d",
   "metadata": {},
   "source": [
    "## Prediction"
   ]
  },
  {
   "cell_type": "code",
   "execution_count": 51,
   "id": "7b0bdeaf-ffb9-4f37-a6dc-56567fe2c5d3",
   "metadata": {},
   "outputs": [],
   "source": [
    "y_pred = svc_model.predict(Xtest)"
   ]
  },
  {
   "cell_type": "markdown",
   "id": "406dd6dd-850b-4222-abf0-f9333200f1f1",
   "metadata": {
    "tags": []
   },
   "source": [
    "## Performance Evaluation"
   ]
  },
  {
   "cell_type": "raw",
   "id": "ddd2b661-f83e-461a-8ccb-bd4d1c63276c",
   "metadata": {},
   "source": [
    "import matplotlib.pyplot as plt\n",
    "import seaborn as sn"
   ]
  },
  {
   "cell_type": "code",
   "execution_count": 52,
   "id": "1faef6d7-6b89-4df5-9cc5-11056c43a314",
   "metadata": {},
   "outputs": [
    {
     "data": {
      "image/png": "[encoded data removed]",
      "text/plain": [
       "<Figure size 432x288 with 2 Axes>"
      ]
     },
     "metadata": {
      "needs_background": "light"
     },
     "output_type": "display_data"
    }
   ],
   "source": [
    "from sklearn.metrics import confusion_matrix\n",
    "\n",
    "classes = [0,1]\n",
    "cm = confusion_matrix(ytest, y_pred, labels=classes)\n",
    "sn.heatmap(cm, annot=True)\n",
    "plt.title(\"Confusion Matrix for Test Data\")\n",
    "plt.show()"
   ]
  },
  {
   "cell_type": "code",
   "execution_count": 53,
   "id": "ab68843c-86b6-49e1-b3ac-68335c3123c3",
   "metadata": {},
   "outputs": [
    {
     "name": "stdout",
     "output_type": "stream",
     "text": [
      "              precision    recall  f1-score   support\n",
      "\n",
      "           0       0.85      0.81      0.83       308\n",
      "           1       0.82      0.86      0.84       307\n",
      "\n",
      "    accuracy                           0.84       615\n",
      "   macro avg       0.84      0.84      0.84       615\n",
      "weighted avg       0.84      0.84      0.84       615\n",
      "\n"
     ]
    }
   ],
   "source": [
    "print(classification_report(ytest, y_pred))"
   ]
  },
  {
   "cell_type": "code",
   "execution_count": 54,
   "id": "ffb5c49e-4ef7-44b4-97d3-bbb18fa5c12d",
   "metadata": {},
   "outputs": [
    {
     "name": "stdout",
     "output_type": "stream",
     "text": [
      "              precision    recall  f1-score   support\n",
      "\n",
      "           0       1.00      0.61      0.76      1228\n",
      "           1       0.72      1.00      0.84      1229\n",
      "\n",
      "    accuracy                           0.80      2457\n",
      "   macro avg       0.86      0.80      0.80      2457\n",
      "weighted avg       0.86      0.80      0.80      2457\n",
      "\n"
     ]
    }
   ],
   "source": [
    "print(classification_report(ytrain, GNVmodel.predict(Xtrain)))"
   ]
  },
  {
   "cell_type": "code",
   "execution_count": null,
   "id": "21f5287d-ba4b-47bb-a6c8-453c847490f9",
   "metadata": {},
   "outputs": [],
   "source": []
  }
 ],
 "metadata": {
  "kernelspec": {
   "display_name": "Python 3 (ipykernel)",
   "language": "python",
   "name": "python3"
  },
  "language_info": {
   "codemirror_mode": {
    "name": "ipython",
    "version": 3
   },
   "file_extension": ".py",
   "mimetype": "text/x-python",
   "name": "python",
   "nbconvert_exporter": "python",
   "pygments_lexer": "ipython3",
   "version": "3.8.10"
  }
 },
 "nbformat": 4,
 "nbformat_minor": 5
}
